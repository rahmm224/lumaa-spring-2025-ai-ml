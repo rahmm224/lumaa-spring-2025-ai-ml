{
  "nbformat": 4,
  "nbformat_minor": 0,
  "metadata": {
    "colab": {
      "provenance": []
    },
    "kernelspec": {
      "name": "python3",
      "display_name": "Python 3"
    },
    "language_info": {
      "name": "python"
    }
  },
  "cells": [
    {
      "cell_type": "code",
      "execution_count": 79,
      "metadata": {
        "colab": {
          "base_uri": "https://localhost:8080/"
        },
        "id": "9MnvY74zRVYf",
        "outputId": "0a3a97ca-cd65-42c9-fcc4-a295f4f96897"
      },
      "outputs": [
        {
          "output_type": "stream",
          "name": "stdout",
          "text": [
            "Drive already mounted at /content/drive; to attempt to forcibly remount, call drive.mount(\"/content/drive\", force_remount=True).\n"
          ]
        }
      ],
      "source": [
        "# Connecting google drive to access dataset\n",
        "from google.colab import drive\n",
        "drive.mount('/content/drive')"
      ]
    },
    {
      "cell_type": "code",
      "source": [
        "# Required libraries\n",
        "import pandas as pd\n",
        "import numpy as np\n",
        "from sklearn.feature_extraction.text import TfidfVectorizer\n",
        "from sklearn.metrics.pairwise import cosine_similarity"
      ],
      "metadata": {
        "id": "Na5Va61GW4Ip"
      },
      "execution_count": 80,
      "outputs": []
    },
    {
      "cell_type": "code",
      "source": [
        "# Reading dataset (CSV file) stored in my google drive\n",
        "df = pd.read_csv('/content/drive/MyDrive/Colab Notebooks/Movie recommendation/movies_metadata.csv')"
      ],
      "metadata": {
        "colab": {
          "base_uri": "https://localhost:8080/"
        },
        "id": "f65OfU4DW-DN",
        "outputId": "314b3b86-ed4f-44a5-cd32-74998487494c"
      },
      "execution_count": 81,
      "outputs": [
        {
          "output_type": "stream",
          "name": "stderr",
          "text": [
            "<ipython-input-81-e11fbc0c96cc>:2: DtypeWarning: Columns (10) have mixed types. Specify dtype option on import or set low_memory=False.\n",
            "  df = pd.read_csv('/content/drive/MyDrive/Colab Notebooks/Movie recommendation/movies_metadata.csv')\n"
          ]
        }
      ]
    },
    {
      "cell_type": "code",
      "source": [
        "# Printing all the features is the dataset\n",
        "df.columns"
      ],
      "metadata": {
        "colab": {
          "base_uri": "https://localhost:8080/"
        },
        "id": "EtctgJTxXLpz",
        "outputId": "c2c579f3-3644-474a-a281-1b7d66867125"
      },
      "execution_count": 82,
      "outputs": [
        {
          "output_type": "execute_result",
          "data": {
            "text/plain": [
              "Index(['adult', 'belongs_to_collection', 'budget', 'genres', 'homepage', 'id',\n",
              "       'imdb_id', 'original_language', 'original_title', 'overview',\n",
              "       'popularity', 'poster_path', 'production_companies',\n",
              "       'production_countries', 'release_date', 'revenue', 'runtime',\n",
              "       'spoken_languages', 'status', 'tagline', 'title', 'video',\n",
              "       'vote_average', 'vote_count'],\n",
              "      dtype='object')"
            ]
          },
          "metadata": {},
          "execution_count": 82
        }
      ]
    },
    {
      "cell_type": "code",
      "source": [
        "# Taking only first 1000 samples for this experiment\n",
        "data = df[['title', 'overview']].dropna()[:1000]"
      ],
      "metadata": {
        "id": "O9LZ6vyGXPc2"
      },
      "execution_count": 83,
      "outputs": []
    },
    {
      "cell_type": "code",
      "source": [
        "# TF-IDF vectorization\n",
        "vectorizer = TfidfVectorizer(stop_words='english')\n",
        "tfidf_matrix = vectorizer.fit_transform(data['overview'])"
      ],
      "metadata": {
        "id": "aOWPmhvWXlkw"
      },
      "execution_count": 84,
      "outputs": []
    },
    {
      "cell_type": "code",
      "source": [
        "user_input = \"I love thrilling action movies set in space, with a comedic twist.\"\n",
        "top = 5\n",
        "# Vectorize user input\n",
        "user_vector = vectorizer.transform([user_input])\n",
        "# Compare user input with all the movie descriptions in the dataset\n",
        "similarities = cosine_similarity(user_vector, tfidf_matrix).flatten()\n",
        "# Sorting movies based on similarity and selection top 5 movie to display\n",
        "top_movies = np.argsort(similarities)[-top:]\n",
        "recommendation = df.iloc[top_movies]\n",
        "# Displaying top recommended movies\n",
        "for movie in top_movies:\n",
        "    print(f\"Title: {df.iloc[movie]['title']}\")\n",
        "    print(f\"Genres: {df.iloc[movie]['genres']}\")\n",
        "    print()"
      ],
      "metadata": {
        "colab": {
          "base_uri": "https://localhost:8080/"
        },
        "id": "a40qqtrwxuGE",
        "outputId": "7080210f-8249-41ea-e5fe-cdaa2884fd31"
      },
      "execution_count": 85,
      "outputs": [
        {
          "output_type": "stream",
          "name": "stdout",
          "text": [
            "Title: Amateur\n",
            "Genres: [{'id': 80, 'name': 'Crime'}, {'id': 35, 'name': 'Comedy'}, {'id': 18, 'name': 'Drama'}, {'id': 53, 'name': 'Thriller'}]\n",
            "\n",
            "Title: Blue Sky\n",
            "Genres: [{'id': 18, 'name': 'Drama'}, {'id': 10749, 'name': 'Romance'}]\n",
            "\n",
            "Title: A Pyromaniac's Love Story\n",
            "Genres: [{'id': 35, 'name': 'Comedy'}, {'id': 18, 'name': 'Drama'}, {'id': 10749, 'name': 'Romance'}]\n",
            "\n",
            "Title: Exit to Eden\n",
            "Genres: [{'id': 53, 'name': 'Thriller'}, {'id': 35, 'name': 'Comedy'}, {'id': 80, 'name': 'Crime'}, {'id': 10749, 'name': 'Romance'}]\n",
            "\n",
            "Title: Mute Witness\n",
            "Genres: [{'id': 53, 'name': 'Thriller'}, {'id': 10769, 'name': 'Foreign'}]\n",
            "\n"
          ]
        }
      ]
    }
  ]
}